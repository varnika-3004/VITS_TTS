{
  "nbformat": 4,
  "nbformat_minor": 0,
  "metadata": {
    "colab": {
      "provenance": [],
      "authorship_tag": "ABX9TyPvbRgGygIS1x/fxJJyl9BS",
      "include_colab_link": true
    },
    "kernelspec": {
      "name": "python3",
      "display_name": "Python 3"
    },
    "language_info": {
      "name": "python"
    }
  },
  "cells": [
    {
      "cell_type": "markdown",
      "metadata": {
        "id": "view-in-github",
        "colab_type": "text"
      },
      "source": [
        "<a href=\"https://colab.research.google.com/github/varnika-3004/VITS_TTS/blob/main/VITS_Model.ipynb\" target=\"_parent\"><img src=\"https://colab.research.google.com/assets/colab-badge.svg\" alt=\"Open In Colab\"/></a>"
      ]
    },
    {
      "cell_type": "code",
      "source": [
        "!git clone https://github.com/jaywalnut310/vits.git\n",
        "%cd vits\n"
      ],
      "metadata": {
        "colab": {
          "base_uri": "https://localhost:8080/"
        },
        "id": "qmohQF6krIvh",
        "outputId": "919f7aaa-774c-4fe7-b019-e7f61605e881"
      },
      "execution_count": null,
      "outputs": [
        {
          "output_type": "stream",
          "name": "stdout",
          "text": [
            "Cloning into 'vits'...\n",
            "remote: Enumerating objects: 81, done.\u001b[K\n",
            "remote: Total 81 (delta 0), reused 0 (delta 0), pack-reused 81 (from 1)\u001b[K\n",
            "Receiving objects: 100% (81/81), 3.33 MiB | 14.97 MiB/s, done.\n",
            "Resolving deltas: 100% (22/22), done.\n",
            "/content/vits\n"
          ]
        }
      ]
    },
    {
      "cell_type": "code",
      "source": [
        "pip install pyqt5\n"
      ],
      "metadata": {
        "colab": {
          "base_uri": "https://localhost:8080/"
        },
        "id": "O94hubznsJFS",
        "outputId": "0de59d6e-3c28-4164-bd73-74c87e7b8ef3"
      },
      "execution_count": null,
      "outputs": [
        {
          "output_type": "stream",
          "name": "stdout",
          "text": [
            "Collecting pyqt5\n",
            "  Downloading PyQt5-5.15.11-cp38-abi3-manylinux_2_17_x86_64.whl.metadata (2.1 kB)\n",
            "Collecting PyQt5-sip<13,>=12.15 (from pyqt5)\n",
            "  Downloading PyQt5_sip-12.15.0-cp310-cp310-manylinux_2_5_x86_64.manylinux1_x86_64.whl.metadata (421 bytes)\n",
            "Collecting PyQt5-Qt5<5.16.0,>=5.15.2 (from pyqt5)\n",
            "  Downloading PyQt5_Qt5-5.15.15-py3-none-manylinux2014_x86_64.whl.metadata (536 bytes)\n",
            "Downloading PyQt5-5.15.11-cp38-abi3-manylinux_2_17_x86_64.whl (8.2 MB)\n",
            "\u001b[2K   \u001b[90m━━━━━━━━━━━━━━━━━━━━━━━━━━━━━━━━━━━━━━━━\u001b[0m \u001b[32m8.2/8.2 MB\u001b[0m \u001b[31m78.4 MB/s\u001b[0m eta \u001b[36m0:00:00\u001b[0m\n",
            "\u001b[?25hDownloading PyQt5_Qt5-5.15.15-py3-none-manylinux2014_x86_64.whl (59.8 MB)\n",
            "\u001b[2K   \u001b[90m━━━━━━━━━━━━━━━━━━━━━━━━━━━━━━━━━━━━━━━━\u001b[0m \u001b[32m59.8/59.8 MB\u001b[0m \u001b[31m58.1 MB/s\u001b[0m eta \u001b[36m0:00:00\u001b[0m\n",
            "\u001b[?25hDownloading PyQt5_sip-12.15.0-cp310-cp310-manylinux_2_5_x86_64.manylinux1_x86_64.whl (270 kB)\n",
            "Installing collected packages: PyQt5-Qt5, PyQt5-sip, pyqt5\n",
            "Successfully installed PyQt5-Qt5-5.15.15 PyQt5-sip-12.15.0 pyqt5-5.15.11\n"
          ]
        }
      ]
    },
    {
      "cell_type": "code",
      "source": [
        "pip --version"
      ],
      "metadata": {
        "colab": {
          "base_uri": "https://localhost:8080/"
        },
        "id": "pCKKoyMfslDI",
        "outputId": "5354b53a-525c-4dbe-e6c4-d62644388cc6"
      },
      "execution_count": null,
      "outputs": [
        {
          "output_type": "stream",
          "name": "stdout",
          "text": [
            "pip 24.3.1 from /usr/local/lib/python3.10/dist-packages/pip (python 3.10)\n"
          ]
        }
      ]
    },
    {
      "cell_type": "code",
      "source": [
        "!pip install -r requirements.txt\n"
      ],
      "metadata": {
        "colab": {
          "base_uri": "https://localhost:8080/"
        },
        "id": "cBxN90QLrNCg",
        "outputId": "c62ddd7a-c55f-46a5-f917-94c460579ed7"
      },
      "execution_count": null,
      "outputs": [
        {
          "output_type": "stream",
          "name": "stdout",
          "text": [
            "Collecting Cython==0.29.21 (from -r requirements.txt (line 1))\n",
            "  Using cached Cython-0.29.21-py2.py3-none-any.whl.metadata (2.6 kB)\n",
            "Collecting librosa==0.8.0 (from -r requirements.txt (line 2))\n",
            "  Using cached librosa-0.8.0.tar.gz (183 kB)\n",
            "  Preparing metadata (setup.py) ... \u001b[?25l\u001b[?25hdone\n",
            "Collecting matplotlib==3.3.1 (from -r requirements.txt (line 3))\n",
            "  Using cached matplotlib-3.3.1.tar.gz (38.8 MB)\n",
            "  Preparing metadata (setup.py) ... \u001b[?25l\u001b[?25hdone\n",
            "Collecting numpy==1.18.5 (from -r requirements.txt (line 4))\n",
            "  Using cached numpy-1.18.5.zip (5.4 MB)\n",
            "  Installing build dependencies ... \u001b[?25l\u001b[?25hdone\n",
            "  Getting requirements to build wheel ... \u001b[?25l\u001b[?25hdone\n",
            "  \u001b[1;31merror\u001b[0m: \u001b[1msubprocess-exited-with-error\u001b[0m\n",
            "  \n",
            "  \u001b[31m×\u001b[0m \u001b[32mPreparing metadata \u001b[0m\u001b[1;32m(\u001b[0m\u001b[32mpyproject.toml\u001b[0m\u001b[1;32m)\u001b[0m did not run successfully.\n",
            "  \u001b[31m│\u001b[0m exit code: \u001b[1;36m1\u001b[0m\n",
            "  \u001b[31m╰─>\u001b[0m See above for output.\n",
            "  \n",
            "  \u001b[1;35mnote\u001b[0m: This error originates from a subprocess, and is likely not a problem with pip.\n",
            "  Preparing metadata (pyproject.toml) ... \u001b[?25l\u001b[?25herror\n",
            "\u001b[1;31merror\u001b[0m: \u001b[1mmetadata-generation-failed\u001b[0m\n",
            "\n",
            "\u001b[31m×\u001b[0m Encountered error while generating package metadata.\n",
            "\u001b[31m╰─>\u001b[0m See above for output.\n",
            "\n",
            "\u001b[1;35mnote\u001b[0m: This is an issue with the package mentioned above, not pip.\n",
            "\u001b[1;36mhint\u001b[0m: See above for details.\n"
          ]
        }
      ]
    },
    {
      "cell_type": "code",
      "source": [
        "pip install phonemizer"
      ],
      "metadata": {
        "colab": {
          "base_uri": "https://localhost:8080/"
        },
        "id": "zatIDxketmrJ",
        "outputId": "8b0d69a2-d923-442b-83b4-34f017f222f1"
      },
      "execution_count": null,
      "outputs": [
        {
          "output_type": "stream",
          "name": "stdout",
          "text": [
            "Collecting phonemizer\n",
            "  Downloading phonemizer-3.3.0-py3-none-any.whl.metadata (48 kB)\n",
            "Requirement already satisfied: joblib in /usr/local/lib/python3.10/dist-packages (from phonemizer) (1.4.2)\n",
            "Collecting segments (from phonemizer)\n",
            "  Downloading segments-2.2.1-py2.py3-none-any.whl.metadata (3.3 kB)\n",
            "Requirement already satisfied: attrs>=18.1 in /usr/local/lib/python3.10/dist-packages (from phonemizer) (24.2.0)\n",
            "Collecting dlinfo (from phonemizer)\n",
            "  Downloading dlinfo-1.2.1-py3-none-any.whl.metadata (1.1 kB)\n",
            "Requirement already satisfied: typing-extensions in /usr/local/lib/python3.10/dist-packages (from phonemizer) (4.12.2)\n",
            "Collecting clldutils>=1.7.3 (from segments->phonemizer)\n",
            "  Downloading clldutils-3.24.0-py2.py3-none-any.whl.metadata (3.0 kB)\n",
            "Collecting csvw>=1.5.6 (from segments->phonemizer)\n",
            "  Downloading csvw-3.5.1-py2.py3-none-any.whl.metadata (10 kB)\n",
            "Requirement already satisfied: regex in /usr/local/lib/python3.10/dist-packages (from segments->phonemizer) (2024.9.11)\n",
            "Requirement already satisfied: python-dateutil in /usr/local/lib/python3.10/dist-packages (from clldutils>=1.7.3->segments->phonemizer) (2.8.2)\n",
            "Requirement already satisfied: tabulate>=0.7.7 in /usr/local/lib/python3.10/dist-packages (from clldutils>=1.7.3->segments->phonemizer) (0.9.0)\n",
            "Collecting colorlog (from clldutils>=1.7.3->segments->phonemizer)\n",
            "  Downloading colorlog-6.9.0-py3-none-any.whl.metadata (10 kB)\n",
            "Collecting bibtexparser>=2.0.0b4 (from clldutils>=1.7.3->segments->phonemizer)\n",
            "  Downloading bibtexparser-2.0.0b7-py3-none-any.whl.metadata (5.6 kB)\n",
            "Collecting pylatexenc (from clldutils>=1.7.3->segments->phonemizer)\n",
            "  Downloading pylatexenc-2.10.tar.gz (162 kB)\n",
            "  Preparing metadata (setup.py) ... \u001b[?25l\u001b[?25hdone\n",
            "Requirement already satisfied: markdown in /usr/local/lib/python3.10/dist-packages (from clldutils>=1.7.3->segments->phonemizer) (3.7)\n",
            "Requirement already satisfied: lxml in /usr/local/lib/python3.10/dist-packages (from clldutils>=1.7.3->segments->phonemizer) (5.3.0)\n",
            "Requirement already satisfied: markupsafe in /usr/local/lib/python3.10/dist-packages (from clldutils>=1.7.3->segments->phonemizer) (3.0.2)\n",
            "Collecting isodate (from csvw>=1.5.6->segments->phonemizer)\n",
            "  Downloading isodate-0.7.2-py3-none-any.whl.metadata (11 kB)\n",
            "Collecting rfc3986<2 (from csvw>=1.5.6->segments->phonemizer)\n",
            "  Downloading rfc3986-1.5.0-py2.py3-none-any.whl.metadata (6.5 kB)\n",
            "Requirement already satisfied: uritemplate>=3.0.0 in /usr/local/lib/python3.10/dist-packages (from csvw>=1.5.6->segments->phonemizer) (4.1.1)\n",
            "Requirement already satisfied: babel in /usr/local/lib/python3.10/dist-packages (from csvw>=1.5.6->segments->phonemizer) (2.16.0)\n",
            "Requirement already satisfied: requests in /usr/local/lib/python3.10/dist-packages (from csvw>=1.5.6->segments->phonemizer) (2.32.3)\n",
            "Collecting language-tags (from csvw>=1.5.6->segments->phonemizer)\n",
            "  Downloading language_tags-1.2.0-py3-none-any.whl.metadata (2.1 kB)\n",
            "Collecting rdflib (from csvw>=1.5.6->segments->phonemizer)\n",
            "  Downloading rdflib-7.1.1-py3-none-any.whl.metadata (11 kB)\n",
            "Collecting colorama (from csvw>=1.5.6->segments->phonemizer)\n",
            "  Downloading colorama-0.4.6-py2.py3-none-any.whl.metadata (17 kB)\n",
            "Requirement already satisfied: jsonschema in /usr/local/lib/python3.10/dist-packages (from csvw>=1.5.6->segments->phonemizer) (4.23.0)\n",
            "Requirement already satisfied: jsonschema-specifications>=2023.03.6 in /usr/local/lib/python3.10/dist-packages (from jsonschema->csvw>=1.5.6->segments->phonemizer) (2024.10.1)\n",
            "Requirement already satisfied: referencing>=0.28.4 in /usr/local/lib/python3.10/dist-packages (from jsonschema->csvw>=1.5.6->segments->phonemizer) (0.35.1)\n",
            "Requirement already satisfied: rpds-py>=0.7.1 in /usr/local/lib/python3.10/dist-packages (from jsonschema->csvw>=1.5.6->segments->phonemizer) (0.20.0)\n",
            "Requirement already satisfied: six>=1.5 in /usr/local/lib/python3.10/dist-packages (from python-dateutil->clldutils>=1.7.3->segments->phonemizer) (1.16.0)\n",
            "Requirement already satisfied: pyparsing<4,>=2.1.0 in /usr/local/lib/python3.10/dist-packages (from rdflib->csvw>=1.5.6->segments->phonemizer) (3.2.0)\n",
            "Requirement already satisfied: charset-normalizer<4,>=2 in /usr/local/lib/python3.10/dist-packages (from requests->csvw>=1.5.6->segments->phonemizer) (3.4.0)\n",
            "Requirement already satisfied: idna<4,>=2.5 in /usr/local/lib/python3.10/dist-packages (from requests->csvw>=1.5.6->segments->phonemizer) (3.10)\n",
            "Requirement already satisfied: urllib3<3,>=1.21.1 in /usr/local/lib/python3.10/dist-packages (from requests->csvw>=1.5.6->segments->phonemizer) (2.2.3)\n",
            "Requirement already satisfied: certifi>=2017.4.17 in /usr/local/lib/python3.10/dist-packages (from requests->csvw>=1.5.6->segments->phonemizer) (2024.8.30)\n",
            "Downloading phonemizer-3.3.0-py3-none-any.whl (103 kB)\n",
            "Downloading dlinfo-1.2.1-py3-none-any.whl (3.6 kB)\n",
            "Downloading segments-2.2.1-py2.py3-none-any.whl (15 kB)\n",
            "Downloading clldutils-3.24.0-py2.py3-none-any.whl (1.7 MB)\n",
            "\u001b[2K   \u001b[90m━━━━━━━━━━━━━━━━━━━━━━━━━━━━━━━━━━━━━━━━\u001b[0m \u001b[32m1.7/1.7 MB\u001b[0m \u001b[31m7.0 MB/s\u001b[0m eta \u001b[36m0:00:00\u001b[0m\n",
            "\u001b[?25hDownloading csvw-3.5.1-py2.py3-none-any.whl (59 kB)\n",
            "Downloading bibtexparser-2.0.0b7-py3-none-any.whl (38 kB)\n",
            "Downloading rfc3986-1.5.0-py2.py3-none-any.whl (31 kB)\n",
            "Downloading colorama-0.4.6-py2.py3-none-any.whl (25 kB)\n",
            "Downloading colorlog-6.9.0-py3-none-any.whl (11 kB)\n",
            "Downloading isodate-0.7.2-py3-none-any.whl (22 kB)\n",
            "Downloading language_tags-1.2.0-py3-none-any.whl (213 kB)\n",
            "Downloading rdflib-7.1.1-py3-none-any.whl (562 kB)\n",
            "\u001b[2K   \u001b[90m━━━━━━━━━━━━━━━━━━━━━━━━━━━━━━━━━━━━━━━━\u001b[0m \u001b[32m562.4/562.4 kB\u001b[0m \u001b[31m8.2 MB/s\u001b[0m eta \u001b[36m0:00:00\u001b[0m\n",
            "\u001b[?25hBuilding wheels for collected packages: pylatexenc\n",
            "  Building wheel for pylatexenc (setup.py) ... \u001b[?25l\u001b[?25hdone\n",
            "  Created wheel for pylatexenc: filename=pylatexenc-2.10-py3-none-any.whl size=136816 sha256=d5646094c7d5331e090c3bd8fbadb0d6932c49a5e63409f4a27faf423b7e8fbf\n",
            "  Stored in directory: /root/.cache/pip/wheels/d3/31/8b/e09b0386afd80cfc556c00408c9aeea5c35c4d484a9c762fd5\n",
            "Successfully built pylatexenc\n",
            "Installing collected packages: rfc3986, pylatexenc, language-tags, dlinfo, isodate, colorlog, colorama, bibtexparser, rdflib, clldutils, csvw, segments, phonemizer\n",
            "Successfully installed bibtexparser-2.0.0b7 clldutils-3.24.0 colorama-0.4.6 colorlog-6.9.0 csvw-3.5.1 dlinfo-1.2.1 isodate-0.7.2 language-tags-1.2.0 phonemizer-3.3.0 pylatexenc-2.10 rdflib-7.1.1 rfc3986-1.5.0 segments-2.2.1\n"
          ]
        }
      ]
    },
    {
      "cell_type": "code",
      "source": [
        "pip install scipy tensorboard torch torchvision Unidecode"
      ],
      "metadata": {
        "colab": {
          "base_uri": "https://localhost:8080/"
        },
        "id": "XZ1vpT3ttvme",
        "outputId": "82aa2a14-f9e9-4e8c-8c6b-e89f1227d94d"
      },
      "execution_count": null,
      "outputs": [
        {
          "output_type": "stream",
          "name": "stdout",
          "text": [
            "Requirement already satisfied: scipy in /usr/local/lib/python3.10/dist-packages (1.11.4)\n",
            "Requirement already satisfied: tensorboard in /usr/local/lib/python3.10/dist-packages (2.17.0)\n",
            "Requirement already satisfied: torch in /usr/local/lib/python3.10/dist-packages (2.5.0+cu121)\n",
            "Requirement already satisfied: torchvision in /usr/local/lib/python3.10/dist-packages (0.20.0+cu121)\n",
            "Requirement already satisfied: Unidecode in /usr/local/lib/python3.10/dist-packages (1.3.8)\n",
            "Requirement already satisfied: numpy<1.28.0,>=1.21.6 in /usr/local/lib/python3.10/dist-packages (from scipy) (1.23.0)\n",
            "Requirement already satisfied: absl-py>=0.4 in /usr/local/lib/python3.10/dist-packages (from tensorboard) (1.4.0)\n",
            "Requirement already satisfied: grpcio>=1.48.2 in /usr/local/lib/python3.10/dist-packages (from tensorboard) (1.64.1)\n",
            "Requirement already satisfied: markdown>=2.6.8 in /usr/local/lib/python3.10/dist-packages (from tensorboard) (3.7)\n",
            "Requirement already satisfied: protobuf!=4.24.0,<5.0.0,>=3.19.6 in /usr/local/lib/python3.10/dist-packages (from tensorboard) (3.20.3)\n",
            "Requirement already satisfied: setuptools>=41.0.0 in /usr/local/lib/python3.10/dist-packages (from tensorboard) (75.1.0)\n",
            "Requirement already satisfied: six>1.9 in /usr/local/lib/python3.10/dist-packages (from tensorboard) (1.16.0)\n",
            "Requirement already satisfied: tensorboard-data-server<0.8.0,>=0.7.0 in /usr/local/lib/python3.10/dist-packages (from tensorboard) (0.7.2)\n",
            "Requirement already satisfied: werkzeug>=1.0.1 in /usr/local/lib/python3.10/dist-packages (from tensorboard) (3.0.6)\n",
            "Requirement already satisfied: filelock in /usr/local/lib/python3.10/dist-packages (from torch) (3.16.1)\n",
            "Requirement already satisfied: typing-extensions>=4.8.0 in /usr/local/lib/python3.10/dist-packages (from torch) (4.12.2)\n",
            "Requirement already satisfied: networkx in /usr/local/lib/python3.10/dist-packages (from torch) (2.8.8)\n",
            "Requirement already satisfied: jinja2 in /usr/local/lib/python3.10/dist-packages (from torch) (3.1.4)\n",
            "Requirement already satisfied: fsspec in /usr/local/lib/python3.10/dist-packages (from torch) (2024.10.0)\n",
            "Requirement already satisfied: sympy==1.13.1 in /usr/local/lib/python3.10/dist-packages (from torch) (1.13.1)\n",
            "Requirement already satisfied: mpmath<1.4,>=1.1.0 in /usr/local/lib/python3.10/dist-packages (from sympy==1.13.1->torch) (1.3.0)\n",
            "Requirement already satisfied: pillow!=8.3.*,>=5.3.0 in /usr/local/lib/python3.10/dist-packages (from torchvision) (10.4.0)\n",
            "Requirement already satisfied: MarkupSafe>=2.1.1 in /usr/local/lib/python3.10/dist-packages (from werkzeug>=1.0.1->tensorboard) (3.0.2)\n"
          ]
        }
      ]
    },
    {
      "cell_type": "code",
      "source": [
        "!git clone https://github.com/AI4Bharat/IndicVoices-R.git\n",
        "%cd IndicVoices-R"
      ],
      "metadata": {
        "colab": {
          "base_uri": "https://localhost:8080/"
        },
        "id": "7Jm6JLtLuE0r",
        "outputId": "6bd48b9c-4325-4b28-ce20-d09816fbe202"
      },
      "execution_count": null,
      "outputs": [
        {
          "output_type": "stream",
          "name": "stdout",
          "text": [
            "Cloning into 'IndicVoices-R'...\n",
            "remote: Enumerating objects: 49, done.\u001b[K\n",
            "remote: Counting objects:   2% (1/49)\u001b[K\rremote: Counting objects:   4% (2/49)\u001b[K\rremote: Counting objects:   6% (3/49)\u001b[K\rremote: Counting objects:   8% (4/49)\u001b[K\rremote: Counting objects:  10% (5/49)\u001b[K\rremote: Counting objects:  12% (6/49)\u001b[K\rremote: Counting objects:  14% (7/49)\u001b[K\rremote: Counting objects:  16% (8/49)\u001b[K\rremote: Counting objects:  18% (9/49)\u001b[K\rremote: Counting objects:  20% (10/49)\u001b[K\rremote: Counting objects:  22% (11/49)\u001b[K\rremote: Counting objects:  24% (12/49)\u001b[K\rremote: Counting objects:  26% (13/49)\u001b[K\rremote: Counting objects:  28% (14/49)\u001b[K\rremote: Counting objects:  30% (15/49)\u001b[K\rremote: Counting objects:  32% (16/49)\u001b[K\rremote: Counting objects:  34% (17/49)\u001b[K\rremote: Counting objects:  36% (18/49)\u001b[K\rremote: Counting objects:  38% (19/49)\u001b[K\rremote: Counting objects:  40% (20/49)\u001b[K\rremote: Counting objects:  42% (21/49)\u001b[K\rremote: Counting objects:  44% (22/49)\u001b[K\rremote: Counting objects:  46% (23/49)\u001b[K\rremote: Counting objects:  48% (24/49)\u001b[K\rremote: Counting objects:  51% (25/49)\u001b[K\rremote: Counting objects:  53% (26/49)\u001b[K\rremote: Counting objects:  55% (27/49)\u001b[K\rremote: Counting objects:  57% (28/49)\u001b[K\rremote: Counting objects:  59% (29/49)\u001b[K\rremote: Counting objects:  61% (30/49)\u001b[K\rremote: Counting objects:  63% (31/49)\u001b[K\rremote: Counting objects:  65% (32/49)\u001b[K\rremote: Counting objects:  67% (33/49)\u001b[K\rremote: Counting objects:  69% (34/49)\u001b[K\rremote: Counting objects:  71% (35/49)\u001b[K\rremote: Counting objects:  73% (36/49)\u001b[K\rremote: Counting objects:  75% (37/49)\u001b[K\rremote: Counting objects:  77% (38/49)\u001b[K\rremote: Counting objects:  79% (39/49)\u001b[K\rremote: Counting objects:  81% (40/49)\u001b[K\rremote: Counting objects:  83% (41/49)\u001b[K\rremote: Counting objects:  85% (42/49)\u001b[K\rremote: Counting objects:  87% (43/49)\u001b[K\rremote: Counting objects:  89% (44/49)\u001b[K\rremote: Counting objects:  91% (45/49)\u001b[K\rremote: Counting objects:  93% (46/49)\u001b[K\rremote: Counting objects:  95% (47/49)\u001b[K\rremote: Counting objects:  97% (48/49)\u001b[K\rremote: Counting objects: 100% (49/49)\u001b[K\rremote: Counting objects: 100% (49/49), done.\u001b[K\n",
            "remote: Compressing objects: 100% (45/45), done.\u001b[K\n",
            "remote: Total 49 (delta 14), reused 10 (delta 2), pack-reused 0 (from 0)\u001b[K\n",
            "Receiving objects: 100% (49/49), 387.59 KiB | 6.57 MiB/s, done.\n",
            "Resolving deltas: 100% (14/14), done.\n",
            "/content/vits/IndicVoices-R\n"
          ]
        }
      ]
    },
    {
      "cell_type": "code",
      "source": [
        "# Create a directory for the dataset\n",
        "!mkdir -p /content/IndicVoices\n",
        "%cd /content/IndicVoices\n"
      ],
      "metadata": {
        "colab": {
          "base_uri": "https://localhost:8080/"
        },
        "id": "KRwtJZJxuqlT",
        "outputId": "27e53363-5b65-4831-dc71-ed33494f02a5"
      },
      "execution_count": null,
      "outputs": [
        {
          "output_type": "stream",
          "name": "stdout",
          "text": [
            "/content/IndicVoices\n"
          ]
        }
      ]
    },
    {
      "cell_type": "code",
      "source": [
        "!wget -O Sanskrit.tar https://indic-tts-public.objectstore.e2enetworks.net/data/indicvoices_r/Sanskrit.tar | tar -xz\n"
      ],
      "metadata": {
        "colab": {
          "base_uri": "https://localhost:8080/"
        },
        "id": "JhdOJv9qvZvS",
        "outputId": "2b4d9585-1986-4842-e1e3-55bdacb02d0a"
      },
      "execution_count": null,
      "outputs": [
        {
          "output_type": "stream",
          "name": "stdout",
          "text": [
            "--2024-11-06 09:11:51--  https://indic-tts-public.objectstore.e2enetworks.net/data/indicvoices_r/Sanskrit.tar\n",
            "Resolving indic-tts-public.objectstore.e2enetworks.net (indic-tts-public.objectstore.e2enetworks.net)... 164.52.210.97, 164.52.206.154, 164.52.206.155, ...\n",
            "Connecting to indic-tts-public.objectstore.e2enetworks.net (indic-tts-public.objectstore.e2enetworks.net)|164.52.210.97|:443... connected.\n",
            "HTTP request sent, awaiting response... 200 OK\n",
            "Length: 24619489280 (23G) [application/x-tar]\n",
            "Saving to: ‘Sanskrit.tar’\n",
            "\n",
            "Sanskrit.tar        100%[===================>]  22.93G  9.89MB/s    in 41m 24s \n",
            "\n",
            "2024-11-06 09:53:17 (9.45 MB/s) - ‘Sanskrit.tar’ saved [24619489280/24619489280]\n",
            "\n",
            "\n",
            "gzip: stdin: unexpected end of file\n",
            "tar: Child returned status 1\n",
            "tar: Error is not recoverable: exiting now\n"
          ]
        }
      ]
    },
    {
      "cell_type": "code",
      "source": [
        "!ls /content/IndicVoices"
      ],
      "metadata": {
        "colab": {
          "base_uri": "https://localhost:8080/"
        },
        "id": "qnWiFj7o5RKi",
        "outputId": "548315d0-f4a5-4358-e3f8-90345b69b47c"
      },
      "execution_count": null,
      "outputs": [
        {
          "output_type": "stream",
          "name": "stdout",
          "text": [
            "Assamese.tar  Sanskrit.tar\n"
          ]
        }
      ]
    },
    {
      "cell_type": "code",
      "source": [
        "%%bash\n",
        "echo \"Starting download and extraction process...\"\n",
        "while IFS= read -r url; do\n",
        "    wget \"$url\" -O - | tar -xf -\n",
        "done < data_links.txt\n",
        "echo \"Process completed.\"\n"
      ],
      "metadata": {
        "colab": {
          "base_uri": "https://localhost:8080/"
        },
        "id": "_I9_Y3Hm56Ks",
        "outputId": "cc44fb12-21bf-4acb-d992-e676988afe5a"
      },
      "execution_count": null,
      "outputs": [
        {
          "output_type": "stream",
          "name": "stdout",
          "text": [
            "Process is interrupted.\n"
          ]
        }
      ]
    },
    {
      "cell_type": "code",
      "source": [
        "import librosa\n",
        "import soundfile as sf\n",
        "import os\n",
        "\n",
        "# Define the paths\n",
        "data_path = '/content/IndicVoices'  # Location of the original dataset\n",
        "processed_path = '/content/processed_data'  # Where to save processed audio files\n",
        "os.makedirs(processed_path, exist_ok=True)\n",
        "\n",
        "# Process and save each audio file in the correct format\n",
        "for file_name in os.listdir(data_path):\n",
        "    if file_name.endswith('.wav'):\n",
        "        audio_path = os.path.join(data_path, file_name)\n",
        "        y, sr = librosa.load(audio_path, sr=22050)  # Load and resample to 22050 Hz\n",
        "        processed_audio_path = os.path.join(processed_path, file_name)\n",
        "        sf.write(processed_audio_path, y, 22050)  # Save as .wav in 22050 Hz\n"
      ],
      "metadata": {
        "id": "Y1MOYBN58PZd"
      },
      "execution_count": null,
      "outputs": []
    },
    {
      "cell_type": "code",
      "source": [],
      "metadata": {
        "id": "u1sFP52a93c0"
      },
      "execution_count": null,
      "outputs": []
    },
    {
      "cell_type": "code",
      "source": [],
      "metadata": {
        "id": "6ueDUZgr96d7"
      },
      "execution_count": null,
      "outputs": []
    },
    {
      "cell_type": "code",
      "source": [
        "!python /content/vits/train.py -c /content/vits/configs/config.json -m tts_model\n"
      ],
      "metadata": {
        "colab": {
          "base_uri": "https://localhost:8080/"
        },
        "id": "Xqh7WF7B8bxm",
        "outputId": "664af243-3dd1-448d-d2fc-076bb08ac2ff"
      },
      "execution_count": null,
      "outputs": [
        {
          "output_type": "stream",
          "name": "stdout",
          "text": [
            "2024-11-06 10:13:25.967962: E external/local_xla/xla/stream_executor/cuda/cuda_fft.cc:485] Unable to register cuFFT factory: Attempting to register factory for plugin cuFFT when one has already been registered\n",
            "2024-11-06 10:13:25.993418: E external/local_xla/xla/stream_executor/cuda/cuda_dnn.cc:8454] Unable to register cuDNN factory: Attempting to register factory for plugin cuDNN when one has already been registered\n",
            "2024-11-06 10:13:26.000272: E external/local_xla/xla/stream_executor/cuda/cuda_blas.cc:1452] Unable to register cuBLAS factory: Attempting to register factory for plugin cuBLAS when one has already been registered\n",
            "2024-11-06 10:13:26.016800: I tensorflow/core/platform/cpu_feature_guard.cc:210] This TensorFlow binary is optimized to use available CPU instructions in performance-critical operations.\n",
            "To enable the following instructions: AVX2 FMA, in other operations, rebuild TensorFlow with the appropriate compiler flags.\n",
            "2024-11-06 10:13:27.412880: W tensorflow/compiler/tf2tensorrt/utils/py_utils.cc:38] TF-TRT Warning: Could not find TensorRT\n",
            "DEBUG:numba.core.byteflow:bytecode dump:\n",
            ">          0\tNOP(arg=None, lineno=1051)\n",
            "           2\tLOAD_FAST(arg=0, lineno=1054)\n",
            "           4\tLOAD_CONST(arg=1, lineno=1054)\n",
            "           6\tBINARY_SUBSCR(arg=None, lineno=1054)\n",
            "           8\tLOAD_FAST(arg=0, lineno=1054)\n",
            "          10\tLOAD_CONST(arg=2, lineno=1054)\n",
            "          12\tBINARY_SUBSCR(arg=None, lineno=1054)\n",
            "          14\tCOMPARE_OP(arg=4, lineno=1054)\n",
            "          16\tLOAD_FAST(arg=0, lineno=1054)\n",
            "          18\tLOAD_CONST(arg=1, lineno=1054)\n",
            "          20\tBINARY_SUBSCR(arg=None, lineno=1054)\n",
            "          22\tLOAD_FAST(arg=0, lineno=1054)\n",
            "          24\tLOAD_CONST(arg=3, lineno=1054)\n",
            "          26\tBINARY_SUBSCR(arg=None, lineno=1054)\n",
            "          28\tCOMPARE_OP(arg=5, lineno=1054)\n",
            "          30\tBINARY_AND(arg=None, lineno=1054)\n",
            "          32\tRETURN_VALUE(arg=None, lineno=1054)\n",
            "DEBUG:numba.core.byteflow:pending: deque([State(pc_initial=0 nstack_initial=0)])\n",
            "DEBUG:numba.core.byteflow:stack: []\n",
            "DEBUG:numba.core.byteflow:state.pc_initial: State(pc_initial=0 nstack_initial=0)\n",
            "DEBUG:numba.core.byteflow:dispatch pc=0, inst=NOP(arg=None, lineno=1051)\n",
            "DEBUG:numba.core.byteflow:stack []\n",
            "DEBUG:numba.core.byteflow:dispatch pc=2, inst=LOAD_FAST(arg=0, lineno=1054)\n",
            "DEBUG:numba.core.byteflow:stack []\n",
            "DEBUG:numba.core.byteflow:dispatch pc=4, inst=LOAD_CONST(arg=1, lineno=1054)\n",
            "DEBUG:numba.core.byteflow:stack ['$x2.0']\n",
            "DEBUG:numba.core.byteflow:dispatch pc=6, inst=BINARY_SUBSCR(arg=None, lineno=1054)\n",
            "DEBUG:numba.core.byteflow:stack ['$x2.0', '$const4.1']\n",
            "DEBUG:numba.core.byteflow:dispatch pc=8, inst=LOAD_FAST(arg=0, lineno=1054)\n",
            "DEBUG:numba.core.byteflow:stack ['$6binary_subscr.2']\n",
            "DEBUG:numba.core.byteflow:dispatch pc=10, inst=LOAD_CONST(arg=2, lineno=1054)\n",
            "DEBUG:numba.core.byteflow:stack ['$6binary_subscr.2', '$x8.3']\n",
            "DEBUG:numba.core.byteflow:dispatch pc=12, inst=BINARY_SUBSCR(arg=None, lineno=1054)\n",
            "DEBUG:numba.core.byteflow:stack ['$6binary_subscr.2', '$x8.3', '$const10.4']\n",
            "DEBUG:numba.core.byteflow:dispatch pc=14, inst=COMPARE_OP(arg=4, lineno=1054)\n",
            "DEBUG:numba.core.byteflow:stack ['$6binary_subscr.2', '$12binary_subscr.5']\n",
            "DEBUG:numba.core.byteflow:dispatch pc=16, inst=LOAD_FAST(arg=0, lineno=1054)\n",
            "DEBUG:numba.core.byteflow:stack ['$14compare_op.6']\n",
            "DEBUG:numba.core.byteflow:dispatch pc=18, inst=LOAD_CONST(arg=1, lineno=1054)\n",
            "DEBUG:numba.core.byteflow:stack ['$14compare_op.6', '$x16.7']\n",
            "DEBUG:numba.core.byteflow:dispatch pc=20, inst=BINARY_SUBSCR(arg=None, lineno=1054)\n",
            "DEBUG:numba.core.byteflow:stack ['$14compare_op.6', '$x16.7', '$const18.8']\n",
            "DEBUG:numba.core.byteflow:dispatch pc=22, inst=LOAD_FAST(arg=0, lineno=1054)\n",
            "DEBUG:numba.core.byteflow:stack ['$14compare_op.6', '$20binary_subscr.9']\n",
            "DEBUG:numba.core.byteflow:dispatch pc=24, inst=LOAD_CONST(arg=3, lineno=1054)\n",
            "DEBUG:numba.core.byteflow:stack ['$14compare_op.6', '$20binary_subscr.9', '$x22.10']\n",
            "DEBUG:numba.core.byteflow:dispatch pc=26, inst=BINARY_SUBSCR(arg=None, lineno=1054)\n",
            "DEBUG:numba.core.byteflow:stack ['$14compare_op.6', '$20binary_subscr.9', '$x22.10', '$const24.11']\n",
            "DEBUG:numba.core.byteflow:dispatch pc=28, inst=COMPARE_OP(arg=5, lineno=1054)\n",
            "DEBUG:numba.core.byteflow:stack ['$14compare_op.6', '$20binary_subscr.9', '$26binary_subscr.12']\n",
            "DEBUG:numba.core.byteflow:dispatch pc=30, inst=BINARY_AND(arg=None, lineno=1054)\n",
            "DEBUG:numba.core.byteflow:stack ['$14compare_op.6', '$28compare_op.13']\n",
            "DEBUG:numba.core.byteflow:dispatch pc=32, inst=RETURN_VALUE(arg=None, lineno=1054)\n",
            "DEBUG:numba.core.byteflow:stack ['$30binary_and.14']\n",
            "DEBUG:numba.core.byteflow:end state. edges=[]\n",
            "DEBUG:numba.core.byteflow:-------------------------Prune PHIs-------------------------\n",
            "DEBUG:numba.core.byteflow:Used_phis: defaultdict(<class 'set'>, {State(pc_initial=0 nstack_initial=0): set()})\n",
            "DEBUG:numba.core.byteflow:defmap: {}\n",
            "DEBUG:numba.core.byteflow:phismap: defaultdict(<class 'set'>, {})\n",
            "DEBUG:numba.core.byteflow:changing phismap: defaultdict(<class 'set'>, {})\n",
            "DEBUG:numba.core.byteflow:keep phismap: {}\n",
            "DEBUG:numba.core.byteflow:new_out: defaultdict(<class 'dict'>, {})\n",
            "DEBUG:numba.core.byteflow:----------------------DONE Prune PHIs-----------------------\n",
            "DEBUG:numba.core.byteflow:block_infos State(pc_initial=0 nstack_initial=0):\n",
            "AdaptBlockInfo(insts=((0, {}), (2, {'res': '$x2.0'}), (4, {'res': '$const4.1'}), (6, {'index': '$const4.1', 'target': '$x2.0', 'res': '$6binary_subscr.2'}), (8, {'res': '$x8.3'}), (10, {'res': '$const10.4'}), (12, {'index': '$const10.4', 'target': '$x8.3', 'res': '$12binary_subscr.5'}), (14, {'lhs': '$6binary_subscr.2', 'rhs': '$12binary_subscr.5', 'res': '$14compare_op.6'}), (16, {'res': '$x16.7'}), (18, {'res': '$const18.8'}), (20, {'index': '$const18.8', 'target': '$x16.7', 'res': '$20binary_subscr.9'}), (22, {'res': '$x22.10'}), (24, {'res': '$const24.11'}), (26, {'index': '$const24.11', 'target': '$x22.10', 'res': '$26binary_subscr.12'}), (28, {'lhs': '$20binary_subscr.9', 'rhs': '$26binary_subscr.12', 'res': '$28compare_op.13'}), (30, {'lhs': '$14compare_op.6', 'rhs': '$28compare_op.13', 'res': '$30binary_and.14'}), (32, {'retval': '$30binary_and.14', 'castval': '$32return_value.15'})), outgoing_phis={}, blockstack=(), active_try_block=None, outgoing_edgepushed={})\n",
            "DEBUG:numba.core.interpreter:label 0:\n",
            "    x = arg(0, name=x)                       ['x']\n",
            "    $const4.1 = const(int, 0)                ['$const4.1']\n",
            "    $6binary_subscr.2 = getitem(value=x, index=$const4.1, fn=<built-in function getitem>) ['$6binary_subscr.2', '$const4.1', 'x']\n",
            "    $const10.4 = const(int, -1)              ['$const10.4']\n",
            "    $12binary_subscr.5 = getitem(value=x, index=$const10.4, fn=<built-in function getitem>) ['$12binary_subscr.5', '$const10.4', 'x']\n",
            "    $14compare_op.6 = $6binary_subscr.2 > $12binary_subscr.5 ['$12binary_subscr.5', '$14compare_op.6', '$6binary_subscr.2']\n",
            "    $const18.8 = const(int, 0)               ['$const18.8']\n",
            "    $20binary_subscr.9 = getitem(value=x, index=$const18.8, fn=<built-in function getitem>) ['$20binary_subscr.9', '$const18.8', 'x']\n",
            "    $const24.11 = const(int, 1)              ['$const24.11']\n",
            "    $26binary_subscr.12 = getitem(value=x, index=$const24.11, fn=<built-in function getitem>) ['$26binary_subscr.12', '$const24.11', 'x']\n",
            "    $28compare_op.13 = $20binary_subscr.9 >= $26binary_subscr.12 ['$20binary_subscr.9', '$26binary_subscr.12', '$28compare_op.13']\n",
            "    $30binary_and.14 = $14compare_op.6 & $28compare_op.13 ['$14compare_op.6', '$28compare_op.13', '$30binary_and.14']\n",
            "    $32return_value.15 = cast(value=$30binary_and.14) ['$30binary_and.14', '$32return_value.15']\n",
            "    return $32return_value.15                ['$32return_value.15']\n",
            "\n",
            "DEBUG:numba.core.byteflow:bytecode dump:\n",
            ">          0\tNOP(arg=None, lineno=1057)\n",
            "           2\tLOAD_FAST(arg=0, lineno=1060)\n",
            "           4\tLOAD_CONST(arg=1, lineno=1060)\n",
            "           6\tBINARY_SUBSCR(arg=None, lineno=1060)\n",
            "           8\tLOAD_FAST(arg=0, lineno=1060)\n",
            "          10\tLOAD_CONST(arg=2, lineno=1060)\n",
            "          12\tBINARY_SUBSCR(arg=None, lineno=1060)\n",
            "          14\tCOMPARE_OP(arg=0, lineno=1060)\n",
            "          16\tLOAD_FAST(arg=0, lineno=1060)\n",
            "          18\tLOAD_CONST(arg=1, lineno=1060)\n",
            "          20\tBINARY_SUBSCR(arg=None, lineno=1060)\n",
            "          22\tLOAD_FAST(arg=0, lineno=1060)\n",
            "          24\tLOAD_CONST(arg=3, lineno=1060)\n",
            "          26\tBINARY_SUBSCR(arg=None, lineno=1060)\n",
            "          28\tCOMPARE_OP(arg=1, lineno=1060)\n",
            "          30\tBINARY_AND(arg=None, lineno=1060)\n",
            "          32\tRETURN_VALUE(arg=None, lineno=1060)\n",
            "DEBUG:numba.core.byteflow:pending: deque([State(pc_initial=0 nstack_initial=0)])\n",
            "DEBUG:numba.core.byteflow:stack: []\n",
            "DEBUG:numba.core.byteflow:state.pc_initial: State(pc_initial=0 nstack_initial=0)\n",
            "DEBUG:numba.core.byteflow:dispatch pc=0, inst=NOP(arg=None, lineno=1057)\n",
            "DEBUG:numba.core.byteflow:stack []\n",
            "DEBUG:numba.core.byteflow:dispatch pc=2, inst=LOAD_FAST(arg=0, lineno=1060)\n",
            "DEBUG:numba.core.byteflow:stack []\n",
            "DEBUG:numba.core.byteflow:dispatch pc=4, inst=LOAD_CONST(arg=1, lineno=1060)\n",
            "DEBUG:numba.core.byteflow:stack ['$x2.0']\n",
            "DEBUG:numba.core.byteflow:dispatch pc=6, inst=BINARY_SUBSCR(arg=None, lineno=1060)\n",
            "DEBUG:numba.core.byteflow:stack ['$x2.0', '$const4.1']\n",
            "DEBUG:numba.core.byteflow:dispatch pc=8, inst=LOAD_FAST(arg=0, lineno=1060)\n",
            "DEBUG:numba.core.byteflow:stack ['$6binary_subscr.2']\n",
            "DEBUG:numba.core.byteflow:dispatch pc=10, inst=LOAD_CONST(arg=2, lineno=1060)\n",
            "DEBUG:numba.core.byteflow:stack ['$6binary_subscr.2', '$x8.3']\n",
            "DEBUG:numba.core.byteflow:dispatch pc=12, inst=BINARY_SUBSCR(arg=None, lineno=1060)\n",
            "DEBUG:numba.core.byteflow:stack ['$6binary_subscr.2', '$x8.3', '$const10.4']\n",
            "DEBUG:numba.core.byteflow:dispatch pc=14, inst=COMPARE_OP(arg=0, lineno=1060)\n",
            "DEBUG:numba.core.byteflow:stack ['$6binary_subscr.2', '$12binary_subscr.5']\n",
            "DEBUG:numba.core.byteflow:dispatch pc=16, inst=LOAD_FAST(arg=0, lineno=1060)\n",
            "DEBUG:numba.core.byteflow:stack ['$14compare_op.6']\n",
            "DEBUG:numba.core.byteflow:dispatch pc=18, inst=LOAD_CONST(arg=1, lineno=1060)\n",
            "DEBUG:numba.core.byteflow:stack ['$14compare_op.6', '$x16.7']\n",
            "DEBUG:numba.core.byteflow:dispatch pc=20, inst=BINARY_SUBSCR(arg=None, lineno=1060)\n",
            "DEBUG:numba.core.byteflow:stack ['$14compare_op.6', '$x16.7', '$const18.8']\n",
            "DEBUG:numba.core.byteflow:dispatch pc=22, inst=LOAD_FAST(arg=0, lineno=1060)\n",
            "DEBUG:numba.core.byteflow:stack ['$14compare_op.6', '$20binary_subscr.9']\n",
            "DEBUG:numba.core.byteflow:dispatch pc=24, inst=LOAD_CONST(arg=3, lineno=1060)\n",
            "DEBUG:numba.core.byteflow:stack ['$14compare_op.6', '$20binary_subscr.9', '$x22.10']\n",
            "DEBUG:numba.core.byteflow:dispatch pc=26, inst=BINARY_SUBSCR(arg=None, lineno=1060)\n",
            "DEBUG:numba.core.byteflow:stack ['$14compare_op.6', '$20binary_subscr.9', '$x22.10', '$const24.11']\n",
            "DEBUG:numba.core.byteflow:dispatch pc=28, inst=COMPARE_OP(arg=1, lineno=1060)\n",
            "DEBUG:numba.core.byteflow:stack ['$14compare_op.6', '$20binary_subscr.9', '$26binary_subscr.12']\n",
            "DEBUG:numba.core.byteflow:dispatch pc=30, inst=BINARY_AND(arg=None, lineno=1060)\n",
            "DEBUG:numba.core.byteflow:stack ['$14compare_op.6', '$28compare_op.13']\n",
            "DEBUG:numba.core.byteflow:dispatch pc=32, inst=RETURN_VALUE(arg=None, lineno=1060)\n",
            "DEBUG:numba.core.byteflow:stack ['$30binary_and.14']\n",
            "DEBUG:numba.core.byteflow:end state. edges=[]\n",
            "DEBUG:numba.core.byteflow:-------------------------Prune PHIs-------------------------\n",
            "DEBUG:numba.core.byteflow:Used_phis: defaultdict(<class 'set'>, {State(pc_initial=0 nstack_initial=0): set()})\n",
            "DEBUG:numba.core.byteflow:defmap: {}\n",
            "DEBUG:numba.core.byteflow:phismap: defaultdict(<class 'set'>, {})\n",
            "DEBUG:numba.core.byteflow:changing phismap: defaultdict(<class 'set'>, {})\n",
            "DEBUG:numba.core.byteflow:keep phismap: {}\n",
            "DEBUG:numba.core.byteflow:new_out: defaultdict(<class 'dict'>, {})\n",
            "DEBUG:numba.core.byteflow:----------------------DONE Prune PHIs-----------------------\n",
            "DEBUG:numba.core.byteflow:block_infos State(pc_initial=0 nstack_initial=0):\n",
            "AdaptBlockInfo(insts=((0, {}), (2, {'res': '$x2.0'}), (4, {'res': '$const4.1'}), (6, {'index': '$const4.1', 'target': '$x2.0', 'res': '$6binary_subscr.2'}), (8, {'res': '$x8.3'}), (10, {'res': '$const10.4'}), (12, {'index': '$const10.4', 'target': '$x8.3', 'res': '$12binary_subscr.5'}), (14, {'lhs': '$6binary_subscr.2', 'rhs': '$12binary_subscr.5', 'res': '$14compare_op.6'}), (16, {'res': '$x16.7'}), (18, {'res': '$const18.8'}), (20, {'index': '$const18.8', 'target': '$x16.7', 'res': '$20binary_subscr.9'}), (22, {'res': '$x22.10'}), (24, {'res': '$const24.11'}), (26, {'index': '$const24.11', 'target': '$x22.10', 'res': '$26binary_subscr.12'}), (28, {'lhs': '$20binary_subscr.9', 'rhs': '$26binary_subscr.12', 'res': '$28compare_op.13'}), (30, {'lhs': '$14compare_op.6', 'rhs': '$28compare_op.13', 'res': '$30binary_and.14'}), (32, {'retval': '$30binary_and.14', 'castval': '$32return_value.15'})), outgoing_phis={}, blockstack=(), active_try_block=None, outgoing_edgepushed={})\n",
            "DEBUG:numba.core.interpreter:label 0:\n",
            "    x = arg(0, name=x)                       ['x']\n",
            "    $const4.1 = const(int, 0)                ['$const4.1']\n",
            "    $6binary_subscr.2 = getitem(value=x, index=$const4.1, fn=<built-in function getitem>) ['$6binary_subscr.2', '$const4.1', 'x']\n",
            "    $const10.4 = const(int, -1)              ['$const10.4']\n",
            "    $12binary_subscr.5 = getitem(value=x, index=$const10.4, fn=<built-in function getitem>) ['$12binary_subscr.5', '$const10.4', 'x']\n",
            "    $14compare_op.6 = $6binary_subscr.2 < $12binary_subscr.5 ['$12binary_subscr.5', '$14compare_op.6', '$6binary_subscr.2']\n",
            "    $const18.8 = const(int, 0)               ['$const18.8']\n",
            "    $20binary_subscr.9 = getitem(value=x, index=$const18.8, fn=<built-in function getitem>) ['$20binary_subscr.9', '$const18.8', 'x']\n",
            "    $const24.11 = const(int, 1)              ['$const24.11']\n",
            "    $26binary_subscr.12 = getitem(value=x, index=$const24.11, fn=<built-in function getitem>) ['$26binary_subscr.12', '$const24.11', 'x']\n",
            "    $28compare_op.13 = $20binary_subscr.9 <= $26binary_subscr.12 ['$20binary_subscr.9', '$26binary_subscr.12', '$28compare_op.13']\n",
            "    $30binary_and.14 = $14compare_op.6 & $28compare_op.13 ['$14compare_op.6', '$28compare_op.13', '$30binary_and.14']\n",
            "    $32return_value.15 = cast(value=$30binary_and.14) ['$30binary_and.14', '$32return_value.15']\n",
            "    return $32return_value.15                ['$32return_value.15']\n",
            "\n",
            "Traceback (most recent call last):\n",
            "  File \"/content/vits/train.py\", line 23, in <module>\n",
            "    from models import (\n",
            "  File \"/content/vits/models.py\", line 10, in <module>\n",
            "    import monotonic_align\n",
            "  File \"/content/vits/monotonic_align/__init__.py\", line 3, in <module>\n",
            "    from .monotonic_align.core import maximum_path_c\n",
            "ModuleNotFoundError: No module named 'monotonic_align.monotonic_align'\n",
            "\u001b[0m"
          ]
        }
      ]
    },
    {
      "cell_type": "code",
      "source": [
        "!python evaluate.py -c configs/your_config.json -m model_name\n"
      ],
      "metadata": {
        "id": "AqMFRB9C97br"
      },
      "execution_count": null,
      "outputs": []
    },
    {
      "cell_type": "code",
      "source": [
        "import os\n",
        "\n",
        "from trainer import Trainer, TrainerArgs\n",
        "\n",
        "from TTS.tts.configs.shared_configs import BaseDatasetConfig, CharactersConfig\n",
        "from TTS.tts.configs.vits_config import VitsConfig\n",
        "from TTS.tts.datasets import load_tts_samples\n",
        "from TTS.tts.models.vits import Vits, VitsArgs, VitsAudioConfig\n",
        "from TTS.tts.utils.speakers import SpeakerManager\n",
        "from TTS.tts.utils.text.tokenizer import TTSTokenizer\n",
        "from TTS.utils.audio import AudioProcessor"
      ],
      "metadata": {
        "id": "20Wi-hqi_OHK"
      },
      "execution_count": null,
      "outputs": []
    },
    {
      "cell_type": "code",
      "source": [
        "output_path = \"/content/IndicVoices\"\n",
        "\n",
        "\n",
        "dataset_config = BaseDatasetConfig(\n",
        "    formatter=\"ljspeech\", meta_file_train=\"/content/IndicVoices/Sanskrit/metadata_test.json\", path=os.path.join(\"/content/IndicVoices/Sanskrit/\")\n",
        ")"
      ],
      "metadata": {
        "id": "lLHugc28_3zH"
      },
      "execution_count": null,
      "outputs": []
    },
    {
      "cell_type": "code",
      "source": [
        "audio_config = VitsAudioConfig(\n",
        "    sample_rate=44100, win_length=1024, hop_length=256, num_mels=80, mel_fmin=0, mel_fmax=None\n",
        ")"
      ],
      "metadata": {
        "id": "MX0a8Fg6_OK_"
      },
      "execution_count": null,
      "outputs": []
    },
    {
      "cell_type": "code",
      "source": [
        "character_config = CharactersConfig(\n",
        "    characters_class= \"TTS.tts.models.vits.VitsCharacters\",\n",
        "    characters= \"ABCDEFGHIJKLMNOPQRSTUVWXYZabcdefghijklmnopqrstuvwxyz1234567890\",\n",
        "    punctuations=\" !,.?-\",\n",
        "    pad= \"<PAD>\",\n",
        "    eos= \"<EOS>\",\n",
        "    bos= \"<BOS>\",\n",
        "    blank= \"<BLNK>\",\n",
        ")"
      ],
      "metadata": {
        "id": "43NoW2EfALJQ"
      },
      "execution_count": null,
      "outputs": []
    },
    {
      "cell_type": "code",
      "source": [
        "config = VitsConfig(\n",
        "    audio=audio_config,\n",
        "    characters=character_config,\n",
        "    run_name=\"vits_vctk\",\n",
        "    batch_size=16,\n",
        "    eval_batch_size=4,\n",
        "    num_loader_workers=4,\n",
        "    num_eval_loader_workers=4,\n",
        "    run_eval=True,\n",
        "    test_delay_epochs=0,\n",
        "    epochs=1000,\n",
        "    text_cleaner=\"basic_cleaners\",\n",
        "    use_phonemes=False,\n",
        "    phoneme_language=\"en-us\",\n",
        "    phoneme_cache_path=os.path.join(output_path, \"phoneme_cache\"),\n",
        "    compute_input_seq_cache=True,\n",
        "    print_step=25,\n",
        "    print_eval=False,\n",
        "    save_best_after=1000,\n",
        "    save_checkpoints=True,\n",
        "    save_all_best=True,\n",
        "    mixed_precision=True,\n",
        "    max_text_len=250,  # change this if you have a larger VRAM than 16GB\n",
        "    output_path=output_path,\n",
        "    datasets=[dataset_config],\n",
        "    cudnn_benchmark=False,\n",
        "    test_sentences=[\n",
        "        [\"Ini adalah tes suara\"],\n",
        "        [\"Beberapa hal yang perlu diperhatikan ketika melatih sebuah model adalah parameter.\"],\n",
        "        [\"Selamat pagi\"]\n",
        "    ]\n",
        ")"
      ],
      "metadata": {
        "id": "Ty8rdyV6ARBC"
      },
      "execution_count": null,
      "outputs": []
    },
    {
      "cell_type": "code",
      "source": [
        "# Audio processor is used for feature extraction and audio I/O.\n",
        "# It mainly serves to the dataloader and the training loggers.\n",
        "ap = AudioProcessor.init_from_config(config)\n",
        "\n",
        "# INITIALIZE THE TOKENIZER\n",
        "# Tokenizer is used to convert text to sequences of token IDs.\n",
        "# config is updated with the default characters if not defined in the config.\n",
        "tokenizer, config = TTSTokenizer.init_from_config(config)"
      ],
      "metadata": {
        "colab": {
          "base_uri": "https://localhost:8080/"
        },
        "id": "q9d8aGbqAeDd",
        "outputId": "9dad4c48-7642-446d-ae51-44ec7971ac5d"
      },
      "execution_count": null,
      "outputs": [
        {
          "output_type": "stream",
          "name": "stdout",
          "text": [
            " > Setting up Audio Processor...\n",
            " | > sample_rate:44100\n",
            " | > resample:False\n",
            " | > num_mels:80\n",
            " | > log_func:np.log10\n",
            " | > min_level_db:0\n",
            " | > frame_shift_ms:None\n",
            " | > frame_length_ms:None\n",
            " | > ref_level_db:None\n",
            " | > fft_size:1024\n",
            " | > power:None\n",
            " | > preemphasis:0.0\n",
            " | > griffin_lim_iters:None\n",
            " | > signal_norm:None\n",
            " | > symmetric_norm:None\n",
            " | > mel_fmin:0\n",
            " | > mel_fmax:None\n",
            " | > pitch_fmin:None\n",
            " | > pitch_fmax:None\n",
            " | > spec_gain:20.0\n",
            " | > stft_pad_mode:reflect\n",
            " | > max_norm:1.0\n",
            " | > clip_norm:True\n",
            " | > do_trim_silence:False\n",
            " | > trim_db:60\n",
            " | > do_sound_norm:False\n",
            " | > do_amp_to_db_linear:True\n",
            " | > do_amp_to_db_mel:True\n",
            " | > do_rms_norm:False\n",
            " | > db_level:None\n",
            " | > stats_path:None\n",
            " | > base:10\n",
            " | > hop_length:256\n",
            " | > win_length:1024\n"
          ]
        }
      ]
    },
    {
      "cell_type": "code",
      "source": [
        "def formatter(root_path, manifest_file, **kwargs):  # pylint: disable=unused-argument\n",
        "    \"\"\"Assumes each line as ```<filename>|<transcription>```\n",
        "    \"\"\"\n",
        "    txt_file = os.path.join(root_path, manifest_file)\n",
        "    items = []\n",
        "    speaker_name = \"my_speaker\"\n",
        "    with open(txt_file, \"r\", encoding=\"utf-8\") as ttf:\n",
        "        for line in ttf:\n",
        "            cols = line.split(\"\")\n",
        "            wav_file = f\"/content/IndicVoices/Sanskrit/wavs/{cols[0]}.wav\"\n",
        "            text = cols[1].strip()\n",
        "            # print(text)\n",
        "            items.append({\"text\":text, \"audio_file\":wav_file, \"speaker_name\":speaker_name, \"root_path\": root_path})\n",
        "    return items"
      ],
      "metadata": {
        "id": "Th2OU0yzAjHs"
      },
      "execution_count": null,
      "outputs": []
    },
    {
      "cell_type": "code",
      "source": [
        "train_samples, eval_samples = load_tts_samples(\n",
        "dataset_config,\n",
        "eval_split=True,\n",
        "formatter=formatter)"
      ],
      "metadata": {
        "colab": {
          "base_uri": "https://localhost:8080/",
          "height": 356
        },
        "id": "tk-t8rf5BH2l",
        "outputId": "37532238-8392-49a1-faf8-3a11472c8b19"
      },
      "execution_count": null,
      "outputs": [
        {
          "output_type": "error",
          "ename": "IndexError",
          "evalue": "list index out of range",
          "traceback": [
            "\u001b[0;31m---------------------------------------------------------------------------\u001b[0m",
            "\u001b[0;31mIndexError\u001b[0m                                Traceback (most recent call last)",
            "\u001b[0;32m<ipython-input-61-bbc80a5ff196>\u001b[0m in \u001b[0;36m<cell line: 1>\u001b[0;34m()\u001b[0m\n\u001b[0;32m----> 1\u001b[0;31m train_samples, eval_samples = load_tts_samples(\n\u001b[0m\u001b[1;32m      2\u001b[0m \u001b[0mdataset_config\u001b[0m\u001b[0;34m,\u001b[0m\u001b[0;34m\u001b[0m\u001b[0;34m\u001b[0m\u001b[0m\n\u001b[1;32m      3\u001b[0m \u001b[0meval_split\u001b[0m\u001b[0;34m=\u001b[0m\u001b[0;32mTrue\u001b[0m\u001b[0;34m,\u001b[0m\u001b[0;34m\u001b[0m\u001b[0;34m\u001b[0m\u001b[0m\n\u001b[1;32m      4\u001b[0m formatter=formatter)\n",
            "\u001b[0;32m/usr/local/lib/python3.10/dist-packages/TTS/tts/datasets/__init__.py\u001b[0m in \u001b[0;36mload_tts_samples\u001b[0;34m(datasets, eval_split, formatter, eval_split_max_size, eval_split_size)\u001b[0m\n\u001b[1;32m    118\u001b[0m             \u001b[0mformatter\u001b[0m \u001b[0;34m=\u001b[0m \u001b[0m_get_formatter_by_name\u001b[0m\u001b[0;34m(\u001b[0m\u001b[0mformatter_name\u001b[0m\u001b[0;34m)\u001b[0m\u001b[0;34m\u001b[0m\u001b[0;34m\u001b[0m\u001b[0m\n\u001b[1;32m    119\u001b[0m         \u001b[0;31m# load train set\u001b[0m\u001b[0;34m\u001b[0m\u001b[0;34m\u001b[0m\u001b[0m\n\u001b[0;32m--> 120\u001b[0;31m         \u001b[0mmeta_data_train\u001b[0m \u001b[0;34m=\u001b[0m \u001b[0mformatter\u001b[0m\u001b[0;34m(\u001b[0m\u001b[0mroot_path\u001b[0m\u001b[0;34m,\u001b[0m \u001b[0mmeta_file_train\u001b[0m\u001b[0;34m,\u001b[0m \u001b[0mignored_speakers\u001b[0m\u001b[0;34m=\u001b[0m\u001b[0mignored_speakers\u001b[0m\u001b[0;34m)\u001b[0m\u001b[0;34m\u001b[0m\u001b[0;34m\u001b[0m\u001b[0m\n\u001b[0m\u001b[1;32m    121\u001b[0m         \u001b[0;32massert\u001b[0m \u001b[0mlen\u001b[0m\u001b[0;34m(\u001b[0m\u001b[0mmeta_data_train\u001b[0m\u001b[0;34m)\u001b[0m \u001b[0;34m>\u001b[0m \u001b[0;36m0\u001b[0m\u001b[0;34m,\u001b[0m \u001b[0;34mf\" [!] No training samples found in {root_path}/{meta_file_train}\"\u001b[0m\u001b[0;34m\u001b[0m\u001b[0;34m\u001b[0m\u001b[0m\n\u001b[1;32m    122\u001b[0m \u001b[0;34m\u001b[0m\u001b[0m\n",
            "\u001b[0;32m<ipython-input-60-43f23675f885>\u001b[0m in \u001b[0;36mformatter\u001b[0;34m(root_path, manifest_file, **kwargs)\u001b[0m\n\u001b[1;32m      9\u001b[0m             \u001b[0mcols\u001b[0m \u001b[0;34m=\u001b[0m \u001b[0mline\u001b[0m\u001b[0;34m.\u001b[0m\u001b[0msplit\u001b[0m\u001b[0;34m(\u001b[0m\u001b[0;34m\"|\"\u001b[0m\u001b[0;34m)\u001b[0m\u001b[0;34m\u001b[0m\u001b[0;34m\u001b[0m\u001b[0m\n\u001b[1;32m     10\u001b[0m             \u001b[0mwav_file\u001b[0m \u001b[0;34m=\u001b[0m \u001b[0;34mf\"/content/IndicVoices/Sanskrit/wavs/{cols[0]}.wav\"\u001b[0m\u001b[0;34m\u001b[0m\u001b[0;34m\u001b[0m\u001b[0m\n\u001b[0;32m---> 11\u001b[0;31m             \u001b[0mtext\u001b[0m \u001b[0;34m=\u001b[0m \u001b[0mcols\u001b[0m\u001b[0;34m[\u001b[0m\u001b[0;36m1\u001b[0m\u001b[0;34m]\u001b[0m\u001b[0;34m.\u001b[0m\u001b[0mstrip\u001b[0m\u001b[0;34m(\u001b[0m\u001b[0;34m)\u001b[0m\u001b[0;34m\u001b[0m\u001b[0;34m\u001b[0m\u001b[0m\n\u001b[0m\u001b[1;32m     12\u001b[0m             \u001b[0;31m# print(text)\u001b[0m\u001b[0;34m\u001b[0m\u001b[0;34m\u001b[0m\u001b[0m\n\u001b[1;32m     13\u001b[0m             \u001b[0mitems\u001b[0m\u001b[0;34m.\u001b[0m\u001b[0mappend\u001b[0m\u001b[0;34m(\u001b[0m\u001b[0;34m{\u001b[0m\u001b[0;34m\"text\"\u001b[0m\u001b[0;34m:\u001b[0m\u001b[0mtext\u001b[0m\u001b[0;34m,\u001b[0m \u001b[0;34m\"audio_file\"\u001b[0m\u001b[0;34m:\u001b[0m\u001b[0mwav_file\u001b[0m\u001b[0;34m,\u001b[0m \u001b[0;34m\"speaker_name\"\u001b[0m\u001b[0;34m:\u001b[0m\u001b[0mspeaker_name\u001b[0m\u001b[0;34m,\u001b[0m \u001b[0;34m\"root_path\"\u001b[0m\u001b[0;34m:\u001b[0m \u001b[0mroot_path\u001b[0m\u001b[0;34m}\u001b[0m\u001b[0;34m)\u001b[0m\u001b[0;34m\u001b[0m\u001b[0;34m\u001b[0m\u001b[0m\n",
            "\u001b[0;31mIndexError\u001b[0m: list index out of range"
          ]
        }
      ]
    },
    {
      "cell_type": "code",
      "source": [
        "# init model\n",
        "model = Vits(config, ap, tokenizer, speaker_manager=None)\n",
        "\n",
        "# init the trainer and 🚀\n",
        "trainer = Trainer(\n",
        "    TrainerArgs(),\n",
        "    config,\n",
        "    output_path,\n",
        "    model=model,\n",
        "    train_samples=train_samples,\n",
        ")"
      ],
      "metadata": {
        "colab": {
          "base_uri": "https://localhost:8080/",
          "height": 193
        },
        "id": "KhpQiZ9RAwiT",
        "outputId": "a1ba37bf-ad76-4a61-e0b8-d6f5b8f4da4e"
      },
      "execution_count": null,
      "outputs": [
        {
          "output_type": "error",
          "ename": "NameError",
          "evalue": "name 'train_samples' is not defined",
          "traceback": [
            "\u001b[0;31m---------------------------------------------------------------------------\u001b[0m",
            "\u001b[0;31mNameError\u001b[0m                                 Traceback (most recent call last)",
            "\u001b[0;32m<ipython-input-44-c38d93ef5179>\u001b[0m in \u001b[0;36m<cell line: 5>\u001b[0;34m()\u001b[0m\n\u001b[1;32m      8\u001b[0m     \u001b[0moutput_path\u001b[0m\u001b[0;34m,\u001b[0m\u001b[0;34m\u001b[0m\u001b[0;34m\u001b[0m\u001b[0m\n\u001b[1;32m      9\u001b[0m     \u001b[0mmodel\u001b[0m\u001b[0;34m=\u001b[0m\u001b[0mmodel\u001b[0m\u001b[0;34m,\u001b[0m\u001b[0;34m\u001b[0m\u001b[0;34m\u001b[0m\u001b[0m\n\u001b[0;32m---> 10\u001b[0;31m     \u001b[0mtrain_samples\u001b[0m\u001b[0;34m=\u001b[0m\u001b[0mtrain_samples\u001b[0m\u001b[0;34m,\u001b[0m\u001b[0;34m\u001b[0m\u001b[0;34m\u001b[0m\u001b[0m\n\u001b[0m\u001b[1;32m     11\u001b[0m )\n",
            "\u001b[0;31mNameError\u001b[0m: name 'train_samples' is not defined"
          ]
        }
      ]
    }
  ]
}